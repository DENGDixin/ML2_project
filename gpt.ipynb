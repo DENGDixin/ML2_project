{
 "cells": [
  {
   "cell_type": "code",
   "execution_count": null,
   "metadata": {},
   "outputs": [
    {
     "ename": "TypeError",
     "evalue": "bad operand type for unary -: 'DMatrix'",
     "output_type": "error",
     "traceback": [
      "\u001b[1;31m---------------------------------------------------------------------------\u001b[0m",
      "\u001b[1;31mTypeError\u001b[0m                                 Traceback (most recent call last)",
      "Cell \u001b[1;32mIn[3], line 89\u001b[0m\n\u001b[0;32m     82\u001b[0m params \u001b[38;5;241m=\u001b[39m {\n\u001b[0;32m     83\u001b[0m     \u001b[38;5;124m'\u001b[39m\u001b[38;5;124mmax_depth\u001b[39m\u001b[38;5;124m'\u001b[39m: \u001b[38;5;241m3\u001b[39m,\n\u001b[0;32m     84\u001b[0m     \u001b[38;5;124m'\u001b[39m\u001b[38;5;124meta\u001b[39m\u001b[38;5;124m'\u001b[39m: \u001b[38;5;241m0.1\u001b[39m,\n\u001b[0;32m     85\u001b[0m     \u001b[38;5;124m'\u001b[39m\u001b[38;5;124meval_metric\u001b[39m\u001b[38;5;124m'\u001b[39m: \u001b[38;5;124m'\u001b[39m\u001b[38;5;124mlogloss\u001b[39m\u001b[38;5;124m'\u001b[39m\n\u001b[0;32m     86\u001b[0m }\n\u001b[0;32m     88\u001b[0m \u001b[38;5;66;03m# 训练模型\u001b[39;00m\n\u001b[1;32m---> 89\u001b[0m model \u001b[38;5;241m=\u001b[39m \u001b[43mxgb\u001b[49m\u001b[38;5;241;43m.\u001b[39;49m\u001b[43mtrain\u001b[49m\u001b[43m(\u001b[49m\u001b[43mparams\u001b[49m\u001b[43m,\u001b[49m\u001b[43m \u001b[49m\u001b[43mdtrain\u001b[49m\u001b[43m,\u001b[49m\u001b[43m \u001b[49m\u001b[43mnum_boost_round\u001b[49m\u001b[38;5;241;43m=\u001b[39;49m\u001b[38;5;241;43m100\u001b[39;49m\u001b[43m,\u001b[49m\u001b[43m \u001b[49m\u001b[43mevals\u001b[49m\u001b[38;5;241;43m=\u001b[39;49m\u001b[43m[\u001b[49m\u001b[43m(\u001b[49m\u001b[43mdtest\u001b[49m\u001b[43m,\u001b[49m\u001b[43m \u001b[49m\u001b[38;5;124;43m'\u001b[39;49m\u001b[38;5;124;43mtest\u001b[39;49m\u001b[38;5;124;43m'\u001b[39;49m\u001b[43m)\u001b[49m\u001b[43m]\u001b[49m\u001b[43m,\u001b[49m\u001b[43m \u001b[49m\u001b[43mobj\u001b[49m\u001b[38;5;241;43m=\u001b[39;49m\u001b[43mcustom_objective\u001b[49m\u001b[43m)\u001b[49m\n\u001b[0;32m     91\u001b[0m \u001b[38;5;66;03m# 预测\u001b[39;00m\n\u001b[0;32m     92\u001b[0m y_pred \u001b[38;5;241m=\u001b[39m model\u001b[38;5;241m.\u001b[39mpredict(dtest)\n",
      "File \u001b[1;32md:\\anaconda3\\envs\\study\\Lib\\site-packages\\xgboost\\core.py:730\u001b[0m, in \u001b[0;36mrequire_keyword_args.<locals>.throw_if.<locals>.inner_f\u001b[1;34m(*args, **kwargs)\u001b[0m\n\u001b[0;32m    728\u001b[0m \u001b[38;5;28;01mfor\u001b[39;00m k, arg \u001b[38;5;129;01min\u001b[39;00m \u001b[38;5;28mzip\u001b[39m(sig\u001b[38;5;241m.\u001b[39mparameters, args):\n\u001b[0;32m    729\u001b[0m     kwargs[k] \u001b[38;5;241m=\u001b[39m arg\n\u001b[1;32m--> 730\u001b[0m \u001b[38;5;28;01mreturn\u001b[39;00m \u001b[43mfunc\u001b[49m\u001b[43m(\u001b[49m\u001b[38;5;241;43m*\u001b[39;49m\u001b[38;5;241;43m*\u001b[39;49m\u001b[43mkwargs\u001b[49m\u001b[43m)\u001b[49m\n",
      "File \u001b[1;32md:\\anaconda3\\envs\\study\\Lib\\site-packages\\xgboost\\training.py:181\u001b[0m, in \u001b[0;36mtrain\u001b[1;34m(params, dtrain, num_boost_round, evals, obj, feval, maximize, early_stopping_rounds, evals_result, verbose_eval, xgb_model, callbacks, custom_metric)\u001b[0m\n\u001b[0;32m    179\u001b[0m \u001b[38;5;28;01mif\u001b[39;00m cb_container\u001b[38;5;241m.\u001b[39mbefore_iteration(bst, i, dtrain, evals):\n\u001b[0;32m    180\u001b[0m     \u001b[38;5;28;01mbreak\u001b[39;00m\n\u001b[1;32m--> 181\u001b[0m \u001b[43mbst\u001b[49m\u001b[38;5;241;43m.\u001b[39;49m\u001b[43mupdate\u001b[49m\u001b[43m(\u001b[49m\u001b[43mdtrain\u001b[49m\u001b[43m,\u001b[49m\u001b[43m \u001b[49m\u001b[43mi\u001b[49m\u001b[43m,\u001b[49m\u001b[43m \u001b[49m\u001b[43mobj\u001b[49m\u001b[43m)\u001b[49m\n\u001b[0;32m    182\u001b[0m \u001b[38;5;28;01mif\u001b[39;00m cb_container\u001b[38;5;241m.\u001b[39mafter_iteration(bst, i, dtrain, evals):\n\u001b[0;32m    183\u001b[0m     \u001b[38;5;28;01mbreak\u001b[39;00m\n",
      "File \u001b[1;32md:\\anaconda3\\envs\\study\\Lib\\site-packages\\xgboost\\core.py:2057\u001b[0m, in \u001b[0;36mBooster.update\u001b[1;34m(self, dtrain, iteration, fobj)\u001b[0m\n\u001b[0;32m   2055\u001b[0m \u001b[38;5;28;01melse\u001b[39;00m:\n\u001b[0;32m   2056\u001b[0m     pred \u001b[38;5;241m=\u001b[39m \u001b[38;5;28mself\u001b[39m\u001b[38;5;241m.\u001b[39mpredict(dtrain, output_margin\u001b[38;5;241m=\u001b[39m\u001b[38;5;28;01mTrue\u001b[39;00m, training\u001b[38;5;241m=\u001b[39m\u001b[38;5;28;01mTrue\u001b[39;00m)\n\u001b[1;32m-> 2057\u001b[0m     grad, hess \u001b[38;5;241m=\u001b[39m \u001b[43mfobj\u001b[49m\u001b[43m(\u001b[49m\u001b[43mpred\u001b[49m\u001b[43m,\u001b[49m\u001b[43m \u001b[49m\u001b[43mdtrain\u001b[49m\u001b[43m)\u001b[49m\n\u001b[0;32m   2058\u001b[0m     \u001b[38;5;28mself\u001b[39m\u001b[38;5;241m.\u001b[39mboost(dtrain, grad, hess)\n",
      "Cell \u001b[1;32mIn[3], line 23\u001b[0m, in \u001b[0;36mcustom_objective\u001b[1;34m(y_true, y_pred)\u001b[0m\n\u001b[0;32m     19\u001b[0m \u001b[38;5;250m\u001b[39m\u001b[38;5;124;03m'''\u001b[39;00m\n\u001b[0;32m     20\u001b[0m \u001b[38;5;124;03m自定义的 objective 函数，用于 XGBoost\u001b[39;00m\n\u001b[0;32m     21\u001b[0m \u001b[38;5;124;03m'''\u001b[39;00m\n\u001b[0;32m     22\u001b[0m \u001b[38;5;66;03m# Sigmoid 函数，将预测值映射到 [0, 1]\u001b[39;00m\n\u001b[1;32m---> 23\u001b[0m y_pred \u001b[38;5;241m=\u001b[39m \u001b[38;5;241m1.0\u001b[39m \u001b[38;5;241m/\u001b[39m (\u001b[38;5;241m1.0\u001b[39m \u001b[38;5;241m+\u001b[39m np\u001b[38;5;241m.\u001b[39mexp(\u001b[38;5;241;43m-\u001b[39;49m\u001b[43my_pred\u001b[49m))\n\u001b[0;32m     25\u001b[0m \u001b[38;5;66;03m# 获取每个样本的 LoanAmount\u001b[39;00m\n\u001b[0;32m     26\u001b[0m LoanAmount \u001b[38;5;241m=\u001b[39m y_pred\u001b[38;5;241m.\u001b[39mbase_margin  \u001b[38;5;66;03m# 从 base_margin 获取 LoanAmount\u001b[39;00m\n",
      "\u001b[1;31mTypeError\u001b[0m: bad operand type for unary -: 'DMatrix'"
     ]
    }
   ],
   "source": [
    "import numpy as np\n",
    "import xgboost as xgb\n",
    "\n",
    "# 自定义 objective function\n",
    "def custom_obj(preds, dtrain):\n",
    "    # 读取标签（0 表示 No Risk, 1 表示 Risk）\n",
    "    labels = dtrain.get_label()  # shape: (n_samples,)\n",
    "    # 读取贷款金额信息（确保在构造 DMatrix 时设置了此信息）\n",
    "    loan_amount = dtrain.get_float_info('LoanAmount')\n",
    "    \n",
    "    # 计算预测概率（XGBoost 传入的是 raw score，即 logit）\n",
    "    p = 1.0 / (1.0 + np.exp(-preds))\n",
    "    \n",
    "    # 定义权重：按照实际比例和训练比例计算\n",
    "    weight_risk = 0.02 / (1/3)    # 对 Risk 样本\n",
    "    weight_no_risk = 0.98 / (2/3)   # 对 No Risk 样本\n",
    "    \n",
    "    # 针对每个样本确定 A, B 和对应权重\n",
    "    # 对于标签为 1 (Risk): A = 1.0, B = 5.0 + 0.6 * LoanAmount, 权重为 weight_risk\n",
    "    # 对于标签为 0 (No Risk): A = 1.0, B = 1.0 - 0.05 * LoanAmount, 权重为 weight_no_risk\n",
    "    A = np.ones_like(labels)\n",
    "    B = np.where(labels == 1, 5.0 + 0.6 * loan_amount, 1.0 - 0.05 * loan_amount)\n",
    "    custom_weight = np.where(labels == 1, weight_risk, weight_no_risk)\n",
    "    \n",
    "    # 计算梯度和 Hessian\n",
    "    # 损失 L = custom_weight * [B + (A-B) * p]\n",
    "    # 梯度 dL/df = custom_weight * (A-B) * p * (1-p)\n",
    "    grad = custom_weight * (A - B) * p * (1 - p)\n",
    "    # Hessian d^2L/df^2 = custom_weight * (A-B) * p*(1-p)*(1-2p)\n",
    "    hess = custom_weight * (A - B) * p * (1 - p) * (1 - 2*p)\n",
    "    \n",
    "    return grad, hess\n",
    "\n",
    "# 使用示例：\n",
    "# 假设 X_train, y_train, loan_amount_train 已经准备好，其中 y_train 为 0/1\n",
    "dtrain = xgb.DMatrix(X_train, label=y_train)\n",
    "# 将 loan_amount 作为 float 信息传入\n",
    "dtrain.set_float_info('LoanAmount', loan_amount_train)\n",
    "\n",
    "# 定义参数（其他参数自行设定）\n",
    "params = {\n",
    "    'max_depth': 4,\n",
    "    'eta': 0.1,\n",
    "    'silent': 1,\n",
    "    # 注意这里 objective 可设为 'binary:logistic'，但当指定自定义 objective 时此项不影响训练\n",
    "}\n",
    "\n",
    "# 训练时传入自定义 objective\n",
    "bst = xgb.train(params, dtrain, num_boost_round=100, obj=custom_obj)\n"
   ]
  }
 ],
 "metadata": {
  "kernelspec": {
   "display_name": "study",
   "language": "python",
   "name": "python3"
  },
  "language_info": {
   "codemirror_mode": {
    "name": "ipython",
    "version": 3
   },
   "file_extension": ".py",
   "mimetype": "text/x-python",
   "name": "python",
   "nbconvert_exporter": "python",
   "pygments_lexer": "ipython3",
   "version": "3.12.3"
  }
 },
 "nbformat": 4,
 "nbformat_minor": 2
}
